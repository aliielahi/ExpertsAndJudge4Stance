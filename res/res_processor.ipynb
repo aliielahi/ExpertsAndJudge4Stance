{
 "cells": [
  {
   "cell_type": "code",
   "execution_count": 1,
   "metadata": {},
   "outputs": [],
   "source": [
    "import json\n",
    "import pandas as pd\n",
    "import numpy as np\n",
    "import pandas as pd\n",
    "import os\n",
    "import seaborn as sns\n",
    "import ast\n",
    "import matplotlib.pyplot as plt\n",
    "from sklearn.metrics import f1_score, accuracy_score\n",
    "from collections import Counter\n",
    "\n",
    "def metrics(actual, model):\n",
    "    filtered_actual = []\n",
    "    filtered_model = []\n",
    "\n",
    "    for i, j in zip(actual, model):\n",
    "        if j != -1:\n",
    "            filtered_actual.append(i)\n",
    "            filtered_model.append(j)\n",
    "    \n",
    "    total_responses = len(actual)\n",
    "    valid_responses = len(filtered_actual)\n",
    "    valid_percentage = (valid_responses / total_responses)\n",
    "    \n",
    "    f1_class_op = f1_score(filtered_actual, filtered_model, labels=[0], average='macro')\n",
    "    f1_class_su = f1_score(filtered_actual, filtered_model, labels=[1], average='macro')\n",
    "    f1_class_nu = f1_score(filtered_actual, filtered_model, labels=[2], average='macro')\n",
    "    weighted_f1 = f1_score(filtered_actual, filtered_model, average='weighted')\n",
    "    accuracy = accuracy_score(filtered_actual, filtered_model)\n",
    "    \n",
    "    \n",
    "    return {\n",
    "        'Valid Resps': valid_percentage,\n",
    "        'F1 Opp': f1_class_op,\n",
    "        'F1 Sup': f1_class_su,\n",
    "        'F1 Neu': f1_class_nu,\n",
    "        'W-F1': weighted_f1,\n",
    "        'ACC': accuracy,\n",
    "    }"
   ]
  },
  {
   "cell_type": "code",
   "execution_count": 2,
   "metadata": {},
   "outputs": [],
   "source": [
    "mo = pd.read_csv('./mo-l3170.csv')\n",
    "mo = mo.drop({\"Unnamed: 0\", 'actual', 'meta-llama/Meta-Llama-3.1-70B-Instruct-Probs'}, axis = 1)\n",
    "mo = mo.rename(columns={'meta-llama/Meta-Llama-3.1-70B-Instruct': 'pred-mo'})\n",
    "\n",
    "\n",
    "la = pd.read_csv('./test_total/Per_model_output/l3170i-t7.csv')\n",
    "la = la.drop({\"Unnamed: 0\"}, axis = 1)\n",
    "la = la.rename(columns={'meta-llama/Meta-Llama-3.1-70B-Instruct': 'pred'})\n",
    "\n",
    "lp = pd.read_csv('./test_total/instruct_class_proba/l3170i-t7.csv')\n",
    "lp = lp.drop({\"Unnamed: 0\", 'actual', 'meta-llama/Meta-Llama-3.1-70B-Instruct'}, axis = 1)\n",
    "lp = lp.rename(columns={'meta-llama/Meta-Llama-3.1-70B-Instruct-Probs': 'probs'})\n",
    "\n",
    "\n",
    "merged_lp_mo = pd.merge(lp, mo, on='id', how='inner')\n",
    "merged = pd.merge(merged_lp_mo, la, on='id', how='inner')"
   ]
  },
  {
   "cell_type": "code",
   "execution_count": 3,
   "metadata": {},
   "outputs": [
    {
     "data": {
      "text/html": [
       "<div>\n",
       "<style scoped>\n",
       "    .dataframe tbody tr th:only-of-type {\n",
       "        vertical-align: middle;\n",
       "    }\n",
       "\n",
       "    .dataframe tbody tr th {\n",
       "        vertical-align: top;\n",
       "    }\n",
       "\n",
       "    .dataframe thead th {\n",
       "        text-align: right;\n",
       "    }\n",
       "</style>\n",
       "<table border=\"1\" class=\"dataframe\">\n",
       "  <thead>\n",
       "    <tr style=\"text-align: right;\">\n",
       "      <th></th>\n",
       "      <th>id</th>\n",
       "      <th>probs</th>\n",
       "      <th>pred-mo</th>\n",
       "      <th>actual</th>\n",
       "      <th>pred</th>\n",
       "    </tr>\n",
       "  </thead>\n",
       "  <tbody>\n",
       "    <tr>\n",
       "      <th>0</th>\n",
       "      <td>6689</td>\n",
       "      <td>[0.07671631, 0.824778, 0.09850569]</td>\n",
       "      <td>1</td>\n",
       "      <td>0</td>\n",
       "      <td>1</td>\n",
       "    </tr>\n",
       "  </tbody>\n",
       "</table>\n",
       "</div>"
      ],
      "text/plain": [
       "     id                               probs  pred-mo  actual  pred\n",
       "0  6689  [0.07671631, 0.824778, 0.09850569]        1       0     1"
      ]
     },
     "execution_count": 3,
     "metadata": {},
     "output_type": "execute_result"
    }
   ],
   "source": [
    "merged.head(1)"
   ]
  },
  {
   "cell_type": "code",
   "execution_count": 9,
   "metadata": {},
   "outputs": [],
   "source": [
    "final_pred = []\n",
    "final_test = []\n",
    "for index, row in merged.iterrows():\n",
    "    final_test.append(row['actual'])\n",
    "    if ast.literal_eval(row['probs'])[row['pred']] < 0.6 or (row['pred-mo'] == 1):\n",
    "        final_pred.append(row['pred-mo'])\n",
    "    else:\n",
    "        final_pred.append(row['pred'])"
   ]
  },
  {
   "cell_type": "code",
   "execution_count": 10,
   "metadata": {},
   "outputs": [
    {
     "data": {
      "text/plain": [
       "({'Valid Resps': 0.930035335689046,\n",
       "  'F1 Opp': 0.7578040904198062,\n",
       "  'F1 Sup': 0.6818851251840943,\n",
       "  'F1 Neu': 0.8349609375000001,\n",
       "  'W-F1': 0.7642670305360079,\n",
       "  'ACC': 0.7682370820668692},\n",
       " {'Valid Resps': 0.9763250883392226,\n",
       "  'F1 Opp': 0.7461250668091929,\n",
       "  'F1 Sup': 0.7146226415094339,\n",
       "  'F1 Neu': 0.8392036753445636,\n",
       "  'W-F1': 0.7699751320177106,\n",
       "  'ACC': 0.7694534925805284})"
      ]
     },
     "execution_count": 10,
     "metadata": {},
     "output_type": "execute_result"
    }
   ],
   "source": [
    "metrics(final_test, merged['pred']), metrics(final_test, final_pred)"
   ]
  },
  {
   "cell_type": "code",
   "execution_count": 38,
   "metadata": {},
   "outputs": [
    {
     "name": "stderr",
     "output_type": "stream",
     "text": [
      "/var/folders/5_/ct_h64s936q91wl1qyv28l040000gn/T/ipykernel_16495/879034021.py:1: FutureWarning: In future versions `DataFrame.to_latex` is expected to utilise the base implementation of `Styler.to_latex` for formatting and rendering. The arguments signature may therefore change. It is recommended instead to use `DataFrame.style.to_latex` which also contains additional functionality.\n",
      "  latex_table = r2.to_latex(index=False)\n"
     ]
    }
   ],
   "source": []
  },
  {
   "cell_type": "code",
   "execution_count": null,
   "metadata": {},
   "outputs": [],
   "source": []
  }
 ],
 "metadata": {
  "kernelspec": {
   "display_name": "env_python",
   "language": "python",
   "name": "python3"
  },
  "language_info": {
   "codemirror_mode": {
    "name": "ipython",
    "version": 3
   },
   "file_extension": ".py",
   "mimetype": "text/x-python",
   "name": "python",
   "nbconvert_exporter": "python",
   "pygments_lexer": "ipython3",
   "version": "3.11.4"
  }
 },
 "nbformat": 4,
 "nbformat_minor": 2
}
